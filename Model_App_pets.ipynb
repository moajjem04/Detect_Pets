{
  "nbformat": 4,
  "nbformat_minor": 0,
  "metadata": {
    "colab": {
      "name": "Model_App_pets.ipynb",
      "provenance": [],
      "collapsed_sections": []
    },
    "kernelspec": {
      "name": "python3",
      "display_name": "Python 3"
    }
  },
  "cells": [
    {
      "cell_type": "code",
      "metadata": {
        "id": "1hkpRZYnUkvt"
      },
      "source": [
        "from fastai.vision.all import *\n",
        "from fastai.vision.widgets import *"
      ],
      "execution_count": null,
      "outputs": []
    },
    {
      "cell_type": "markdown",
      "metadata": {
        "id": "5QtqRRW1VU3B"
      },
      "source": [
        "# The Amazing Pet Recognizer (TAPR)\n",
        "\n",
        "#### Is it a bird? Is it a cat? or is it a snake? You probably never had that question in your mind. But this app is here to answer that unusual question. This app currently can detect :\n",
        "* Dogs\n",
        "* Cats\n",
        "* Rabbits\n",
        "* Lizards\n",
        "* Fish\n",
        "* Birds\n",
        "* Snake\n",
        "* Tortoise\n",
        "\n",
        "#### Instructions:\n",
        "1. Press the Upload Button.\n",
        "2. Select an image of a pet and upload it.\n",
        "\n",
        "#### ...and voila! The app will now tell you what type of pet it is!\n",
        "\n",
        "\n"
      ]
    },
    {
      "cell_type": "code",
      "metadata": {
        "id": "CvwdEDPTU1tz"
      },
      "source": [
        "path = Path()\n",
        "learn_inf = load_learner(path/'pets.pkl', cpu=True)\n",
        "btn_upload = widgets.FileUpload()\n",
        "out_pl = widgets.Output()\n",
        "lbl_pred = widgets.Label()"
      ],
      "execution_count": null,
      "outputs": []
    },
    {
      "cell_type": "code",
      "metadata": {
        "id": "097qNUBSU7nz"
      },
      "source": [
        "def on_data_change(change):\n",
        "    lbl_pred.value = ''\n",
        "    img = PILImage.create(btn_upload.data[-1])\n",
        "    out_pl.clear_output()\n",
        "    with out_pl: display(img.to_thumb(128,128))\n",
        "    pred,pred_idx,probs = learn_inf.predict(img)\n",
        "    lbl_pred.value = f'Prediction: {pred}; Probability: {probs[pred_idx]:.04f}'"
      ],
      "execution_count": null,
      "outputs": []
    },
    {
      "cell_type": "code",
      "metadata": {
        "id": "TCsm509OU-EN"
      },
      "source": [
        "btn_upload.observe(on_data_change, names=['data'])"
      ],
      "execution_count": null,
      "outputs": []
    },
    {
      "cell_type": "code",
      "metadata": {
        "id": "DTM7c3XzVBKf"
      },
      "source": [
        "display(VBox([widgets.Label('Select your pet!'), btn_upload, out_pl, lbl_pred]))"
      ],
      "execution_count": null,
      "outputs": []
    }
  ]
}